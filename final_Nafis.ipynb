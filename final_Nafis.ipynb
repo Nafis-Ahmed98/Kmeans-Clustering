{
 "cells": [
  {
   "cell_type": "code",
   "execution_count": 187,
   "metadata": {},
   "outputs": [],
   "source": [
    "import pandas as pd\n",
    "from sklearn.cluster import KMeans\n",
    "from sklearn.impute import SimpleImputer\n",
    "from sklearn.preprocessing import StandardScaler\n",
    "from sklearn.metrics import silhouette_score"
   ]
  },
  {
   "cell_type": "markdown",
   "metadata": {},
   "source": [
    "## Study the dataset"
   ]
  },
  {
   "cell_type": "code",
   "execution_count": 188,
   "metadata": {},
   "outputs": [
    {
     "data": {
      "text/html": [
       "<div>\n",
       "<style scoped>\n",
       "    .dataframe tbody tr th:only-of-type {\n",
       "        vertical-align: middle;\n",
       "    }\n",
       "\n",
       "    .dataframe tbody tr th {\n",
       "        vertical-align: top;\n",
       "    }\n",
       "\n",
       "    .dataframe thead th {\n",
       "        text-align: right;\n",
       "    }\n",
       "</style>\n",
       "<table border=\"1\" class=\"dataframe\">\n",
       "  <thead>\n",
       "    <tr style=\"text-align: right;\">\n",
       "      <th></th>\n",
       "      <th>Channel</th>\n",
       "      <th>Region</th>\n",
       "      <th>Fresh</th>\n",
       "      <th>Milk</th>\n",
       "      <th>Grocery</th>\n",
       "      <th>Frozen</th>\n",
       "      <th>Detergents_Paper</th>\n",
       "      <th>Delicassen</th>\n",
       "    </tr>\n",
       "  </thead>\n",
       "  <tbody>\n",
       "    <tr>\n",
       "      <th>0</th>\n",
       "      <td>2</td>\n",
       "      <td>3</td>\n",
       "      <td>12669.0</td>\n",
       "      <td>9656.0</td>\n",
       "      <td>7561.0</td>\n",
       "      <td>214.0</td>\n",
       "      <td>2674.0</td>\n",
       "      <td>1338.0</td>\n",
       "    </tr>\n",
       "    <tr>\n",
       "      <th>1</th>\n",
       "      <td>2</td>\n",
       "      <td>3</td>\n",
       "      <td>7057.0</td>\n",
       "      <td>9810.0</td>\n",
       "      <td>9568.0</td>\n",
       "      <td>1762.0</td>\n",
       "      <td>3293.0</td>\n",
       "      <td>1776.0</td>\n",
       "    </tr>\n",
       "    <tr>\n",
       "      <th>2</th>\n",
       "      <td>2</td>\n",
       "      <td>3</td>\n",
       "      <td>6353.0</td>\n",
       "      <td>8808.0</td>\n",
       "      <td>7684.0</td>\n",
       "      <td>2405.0</td>\n",
       "      <td>3516.0</td>\n",
       "      <td>7844.0</td>\n",
       "    </tr>\n",
       "    <tr>\n",
       "      <th>3</th>\n",
       "      <td>1</td>\n",
       "      <td>3</td>\n",
       "      <td>13265.0</td>\n",
       "      <td>1196.0</td>\n",
       "      <td>4221.0</td>\n",
       "      <td>6404.0</td>\n",
       "      <td>507.0</td>\n",
       "      <td>1788.0</td>\n",
       "    </tr>\n",
       "    <tr>\n",
       "      <th>4</th>\n",
       "      <td>2</td>\n",
       "      <td>3</td>\n",
       "      <td>22615.0</td>\n",
       "      <td>5410.0</td>\n",
       "      <td>7198.0</td>\n",
       "      <td>NaN</td>\n",
       "      <td>1777.0</td>\n",
       "      <td>NaN</td>\n",
       "    </tr>\n",
       "  </tbody>\n",
       "</table>\n",
       "</div>"
      ],
      "text/plain": [
       "   Channel  Region    Fresh    Milk  Grocery  Frozen  Detergents_Paper  \\\n",
       "0        2       3  12669.0  9656.0   7561.0   214.0            2674.0   \n",
       "1        2       3   7057.0  9810.0   9568.0  1762.0            3293.0   \n",
       "2        2       3   6353.0  8808.0   7684.0  2405.0            3516.0   \n",
       "3        1       3  13265.0  1196.0   4221.0  6404.0             507.0   \n",
       "4        2       3  22615.0  5410.0   7198.0     NaN            1777.0   \n",
       "\n",
       "   Delicassen  \n",
       "0      1338.0  \n",
       "1      1776.0  \n",
       "2      7844.0  \n",
       "3      1788.0  \n",
       "4         NaN  "
      ]
     },
     "execution_count": 188,
     "metadata": {},
     "output_type": "execute_result"
    }
   ],
   "source": [
    "df = pd.read_csv(\"final.csv\")\n",
    "df.head()"
   ]
  },
  {
   "cell_type": "markdown",
   "metadata": {},
   "source": [
    "## Do proper data preparation"
   ]
  },
  {
   "cell_type": "code",
   "execution_count": 189,
   "metadata": {},
   "outputs": [
    {
     "data": {
      "text/plain": [
       "(440, 6)"
      ]
     },
     "execution_count": 189,
     "metadata": {},
     "output_type": "execute_result"
    }
   ],
   "source": [
    "X = df.iloc[:,2:].values\n",
    "X.shape"
   ]
  },
  {
   "cell_type": "code",
   "execution_count": 191,
   "metadata": {},
   "outputs": [
    {
     "data": {
      "text/html": [
       "<div>\n",
       "<style scoped>\n",
       "    .dataframe tbody tr th:only-of-type {\n",
       "        vertical-align: middle;\n",
       "    }\n",
       "\n",
       "    .dataframe tbody tr th {\n",
       "        vertical-align: top;\n",
       "    }\n",
       "\n",
       "    .dataframe thead th {\n",
       "        text-align: right;\n",
       "    }\n",
       "</style>\n",
       "<table border=\"1\" class=\"dataframe\">\n",
       "  <thead>\n",
       "    <tr style=\"text-align: right;\">\n",
       "      <th></th>\n",
       "      <th>Channel</th>\n",
       "      <th>Region</th>\n",
       "      <th>Fresh</th>\n",
       "      <th>Milk</th>\n",
       "      <th>Grocery</th>\n",
       "      <th>Frozen</th>\n",
       "      <th>Detergents_Paper</th>\n",
       "      <th>Delicassen</th>\n",
       "    </tr>\n",
       "  </thead>\n",
       "  <tbody>\n",
       "    <tr>\n",
       "      <th>count</th>\n",
       "      <td>440.000000</td>\n",
       "      <td>440.000000</td>\n",
       "      <td>439.000000</td>\n",
       "      <td>438.000000</td>\n",
       "      <td>438.000000</td>\n",
       "      <td>438.000000</td>\n",
       "      <td>439.000000</td>\n",
       "      <td>439.000000</td>\n",
       "    </tr>\n",
       "    <tr>\n",
       "      <th>mean</th>\n",
       "      <td>1.322727</td>\n",
       "      <td>2.543182</td>\n",
       "      <td>12010.369021</td>\n",
       "      <td>5802.043379</td>\n",
       "      <td>7960.041096</td>\n",
       "      <td>3074.374429</td>\n",
       "      <td>2882.633257</td>\n",
       "      <td>1516.533030</td>\n",
       "    </tr>\n",
       "    <tr>\n",
       "      <th>std</th>\n",
       "      <td>0.468052</td>\n",
       "      <td>0.774272</td>\n",
       "      <td>12659.991699</td>\n",
       "      <td>7392.448252</td>\n",
       "      <td>9523.408318</td>\n",
       "      <td>4864.741417</td>\n",
       "      <td>4773.234058</td>\n",
       "      <td>2817.889215</td>\n",
       "    </tr>\n",
       "    <tr>\n",
       "      <th>min</th>\n",
       "      <td>1.000000</td>\n",
       "      <td>1.000000</td>\n",
       "      <td>3.000000</td>\n",
       "      <td>55.000000</td>\n",
       "      <td>3.000000</td>\n",
       "      <td>25.000000</td>\n",
       "      <td>3.000000</td>\n",
       "      <td>3.000000</td>\n",
       "    </tr>\n",
       "    <tr>\n",
       "      <th>25%</th>\n",
       "      <td>1.000000</td>\n",
       "      <td>2.000000</td>\n",
       "      <td>3119.500000</td>\n",
       "      <td>1541.250000</td>\n",
       "      <td>2149.000000</td>\n",
       "      <td>738.750000</td>\n",
       "      <td>256.500000</td>\n",
       "      <td>407.500000</td>\n",
       "    </tr>\n",
       "    <tr>\n",
       "      <th>50%</th>\n",
       "      <td>1.000000</td>\n",
       "      <td>3.000000</td>\n",
       "      <td>8533.000000</td>\n",
       "      <td>3627.000000</td>\n",
       "      <td>4755.500000</td>\n",
       "      <td>1526.000000</td>\n",
       "      <td>813.000000</td>\n",
       "      <td>964.000000</td>\n",
       "    </tr>\n",
       "    <tr>\n",
       "      <th>75%</th>\n",
       "      <td>2.000000</td>\n",
       "      <td>3.000000</td>\n",
       "      <td>16934.500000</td>\n",
       "      <td>7176.000000</td>\n",
       "      <td>10675.250000</td>\n",
       "      <td>3543.500000</td>\n",
       "      <td>3935.000000</td>\n",
       "      <td>1803.500000</td>\n",
       "    </tr>\n",
       "    <tr>\n",
       "      <th>max</th>\n",
       "      <td>2.000000</td>\n",
       "      <td>3.000000</td>\n",
       "      <td>112151.000000</td>\n",
       "      <td>73498.000000</td>\n",
       "      <td>92780.000000</td>\n",
       "      <td>60869.000000</td>\n",
       "      <td>40827.000000</td>\n",
       "      <td>47943.000000</td>\n",
       "    </tr>\n",
       "  </tbody>\n",
       "</table>\n",
       "</div>"
      ],
      "text/plain": [
       "          Channel      Region          Fresh          Milk       Grocery  \\\n",
       "count  440.000000  440.000000     439.000000    438.000000    438.000000   \n",
       "mean     1.322727    2.543182   12010.369021   5802.043379   7960.041096   \n",
       "std      0.468052    0.774272   12659.991699   7392.448252   9523.408318   \n",
       "min      1.000000    1.000000       3.000000     55.000000      3.000000   \n",
       "25%      1.000000    2.000000    3119.500000   1541.250000   2149.000000   \n",
       "50%      1.000000    3.000000    8533.000000   3627.000000   4755.500000   \n",
       "75%      2.000000    3.000000   16934.500000   7176.000000  10675.250000   \n",
       "max      2.000000    3.000000  112151.000000  73498.000000  92780.000000   \n",
       "\n",
       "             Frozen  Detergents_Paper    Delicassen  \n",
       "count    438.000000        439.000000    439.000000  \n",
       "mean    3074.374429       2882.633257   1516.533030  \n",
       "std     4864.741417       4773.234058   2817.889215  \n",
       "min       25.000000          3.000000      3.000000  \n",
       "25%      738.750000        256.500000    407.500000  \n",
       "50%     1526.000000        813.000000    964.000000  \n",
       "75%     3543.500000       3935.000000   1803.500000  \n",
       "max    60869.000000      40827.000000  47943.000000  "
      ]
     },
     "execution_count": 191,
     "metadata": {},
     "output_type": "execute_result"
    }
   ],
   "source": [
    "df.describe()"
   ]
  },
  {
   "cell_type": "code",
   "execution_count": 155,
   "metadata": {},
   "outputs": [
    {
     "data": {
      "text/plain": [
       "SimpleImputer(add_indicator=False, copy=True, fill_value=None,\n",
       "              missing_values=nan, strategy='mean', verbose=0)"
      ]
     },
     "execution_count": 155,
     "metadata": {},
     "output_type": "execute_result"
    }
   ],
   "source": [
    "imputer = SimpleImputer(strategy='mean')\n",
    "imputer.fit(X)"
   ]
  },
  {
   "cell_type": "code",
   "execution_count": 156,
   "metadata": {},
   "outputs": [],
   "source": [
    "X = imputer.transform(X)"
   ]
  },
  {
   "cell_type": "code",
   "execution_count": 157,
   "metadata": {},
   "outputs": [
    {
     "data": {
      "text/plain": [
       "array([[ 0.05214324,  0.5231234 , -0.04204466, -0.58999556, -0.04380867,\n",
       "        -0.06350149],\n",
       "       [-0.39215391,  0.54402686,  0.16942136, -0.27069711,  0.08616853,\n",
       "         0.09228847],\n",
       "       [-0.44788897,  0.40801867, -0.02908486, -0.13806862,  0.13299393,\n",
       "         2.25058414],\n",
       "       ...,\n",
       "       [ 0.19955616,  1.31473991,  2.3478269 , -0.54399844,  2.51100987,\n",
       "         0.12465579],\n",
       "       [-0.13620012, -0.51865587, -0.60353066, -0.42003308, -0.57001688,\n",
       "         0.21642248],\n",
       "       [-0.73020608, -0.55706936, -0.57423941, -0.62072907, -0.50513327,\n",
       "        -0.52091221]])"
      ]
     },
     "execution_count": 157,
     "metadata": {},
     "output_type": "execute_result"
    }
   ],
   "source": [
    "scaler = StandardScaler()\n",
    "x = scaler.fit(X)\n",
    "X= scaler.transform(X)\n",
    "X"
   ]
  },
  {
   "cell_type": "code",
   "execution_count": 158,
   "metadata": {},
   "outputs": [
    {
     "data": {
      "text/plain": [
       "array([1, 2, 3], dtype=int64)"
      ]
     },
     "execution_count": 158,
     "metadata": {},
     "output_type": "execute_result"
    }
   ],
   "source": [
    "np.unique(y)"
   ]
  },
  {
   "cell_type": "markdown",
   "metadata": {},
   "source": [
    "## Apply K-Means Clustering with random initial centroids."
   ]
  },
  {
   "cell_type": "code",
   "execution_count": 160,
   "metadata": {},
   "outputs": [
    {
     "data": {
      "text/plain": [
       "array([0, 4, 4, 0, 3, 0, 0, 0, 0, 4, 4, 0, 3, 4, 4, 0, 4, 0, 0, 0, 0, 0,\n",
       "       3, 1, 4, 0, 0, 0, 4, 3, 0, 0, 0, 3, 0, 4, 3, 4, 4, 3, 3, 0, 4, 4,\n",
       "       4, 4, 4, 2, 4, 4, 0, 0, 3, 4, 3, 0, 2, 4, 0, 0, 0, 2, 0, 4, 0, 2,\n",
       "       0, 4, 0, 0, 3, 3, 0, 3, 0, 0, 0, 4, 0, 0, 0, 4, 4, 0, 0, 2, 2, 3,\n",
       "       0, 3, 0, 0, 2, 3, 4, 0, 0, 0, 0, 0, 4, 4, 0, 3, 0, 0, 4, 4, 0, 4,\n",
       "       0, 4, 3, 0, 0, 0, 0, 0, 0, 0, 0, 0, 0, 0, 3, 3, 3, 0, 0, 3, 0, 0,\n",
       "       0, 0, 0, 0, 0, 0, 0, 0, 0, 3, 3, 0, 0, 4, 0, 0, 0, 3, 0, 0, 0, 0,\n",
       "       0, 4, 4, 0, 4, 4, 4, 0, 0, 4, 0, 4, 4, 0, 0, 0, 4, 4, 0, 4, 0, 4,\n",
       "       3, 0, 0, 0, 0, 1, 4, 1, 0, 0, 0, 0, 4, 4, 0, 0, 0, 4, 0, 3, 3, 4,\n",
       "       0, 0, 4, 4, 3, 0, 0, 4, 0, 0, 0, 4, 0, 2, 0, 0, 4, 4, 4, 0, 4, 0,\n",
       "       0, 4, 0, 0, 0, 0, 0, 0, 0, 0, 0, 0, 0, 0, 0, 0, 0, 0, 0, 3, 3, 3,\n",
       "       0, 0, 4, 4, 0, 0, 0, 0, 0, 2, 0, 3, 4, 3, 0, 0, 3, 3, 0, 0, 0, 0,\n",
       "       4, 4, 4, 3, 4, 0, 0, 0, 0, 3, 0, 0, 3, 3, 0, 0, 0, 0, 3, 3, 3, 3,\n",
       "       0, 0, 0, 3, 0, 0, 0, 4, 0, 0, 0, 0, 0, 0, 0, 4, 4, 4, 4, 4, 4, 0,\n",
       "       0, 4, 0, 3, 4, 0, 0, 4, 0, 0, 0, 4, 0, 0, 0, 0, 3, 1, 0, 0, 3, 0,\n",
       "       0, 4, 0, 2, 3, 3, 0, 0, 0, 0, 4, 4, 0, 4, 0, 0, 4, 3, 0, 4, 0, 4,\n",
       "       0, 4, 0, 0, 0, 4, 0, 0, 0, 0, 0, 0, 0, 0, 0, 0, 0, 0, 3, 3, 0, 0,\n",
       "       0, 0, 4, 3, 0, 0, 3, 3, 3, 0, 4, 0, 0, 0, 0, 0, 0, 0, 0, 3, 0, 0,\n",
       "       4, 0, 0, 0, 0, 3, 0, 0, 0, 0, 3, 4, 0, 0, 0, 0, 0, 3, 0, 0, 4, 0,\n",
       "       4, 0, 4, 0, 3, 0, 0, 3, 4, 3, 0, 0, 0, 3, 0, 0, 0, 3, 3, 4, 0, 0])"
      ]
     },
     "execution_count": 160,
     "metadata": {},
     "output_type": "execute_result"
    }
   ],
   "source": [
    "from sklearn.cluster import KMeans\n",
    "k=5\n",
    "kmeans = KMeans(n_clusters=k, init='random', random_state=42)\n",
    "y_pred = kmeans.fit_predict(X)\n",
    "y_pred"
   ]
  },
  {
   "cell_type": "markdown",
   "metadata": {},
   "source": [
    "## Using the following two ways to find the best number of clusters"
   ]
  },
  {
   "cell_type": "code",
   "execution_count": 161,
   "metadata": {},
   "outputs": [
    {
     "data": {
      "text/plain": [
       "(440,)"
      ]
     },
     "execution_count": 161,
     "metadata": {},
     "output_type": "execute_result"
    }
   ],
   "source": [
    "y_pred.shape"
   ]
  },
  {
   "cell_type": "code",
   "execution_count": 162,
   "metadata": {},
   "outputs": [
    {
     "data": {
      "text/plain": [
       "True"
      ]
     },
     "execution_count": 162,
     "metadata": {},
     "output_type": "execute_result"
    }
   ],
   "source": [
    "y_pred is kmeans.labels_"
   ]
  },
  {
   "cell_type": "code",
   "execution_count": 163,
   "metadata": {},
   "outputs": [
    {
     "data": {
      "text/plain": [
       "array([0, 1, 2, 3, 4])"
      ]
     },
     "execution_count": 163,
     "metadata": {},
     "output_type": "execute_result"
    }
   ],
   "source": [
    "np.unique(y_pred)"
   ]
  },
  {
   "cell_type": "code",
   "execution_count": 164,
   "metadata": {},
   "outputs": [
    {
     "data": {
      "text/plain": [
       "array([0, 1, 2, 3, 4])"
      ]
     },
     "execution_count": 164,
     "metadata": {},
     "output_type": "execute_result"
    }
   ],
   "source": [
    "np.unique(kmeans.labels_)"
   ]
  },
  {
   "cell_type": "code",
   "execution_count": 165,
   "metadata": {},
   "outputs": [
    {
     "data": {
      "text/plain": [
       "array([[-2.54285124e-01, -3.82083529e-01, -4.37388076e-01,\n",
       "        -1.69239753e-01, -3.97234229e-01, -1.97536529e-01],\n",
       "       [ 3.16768594e+00,  3.51476055e+00,  1.10956008e+00,\n",
       "         5.51782496e+00, -3.85591889e-02,  6.45202252e+00],\n",
       "       [ 3.13076770e-01,  3.92366739e+00,  4.27534966e+00,\n",
       "        -4.07877563e-03,  4.61798450e+00,  5.07301554e-01],\n",
       "       [ 1.49978383e+00, -2.20156654e-01, -2.73385138e-01,\n",
       "         8.18522577e-01, -4.26426641e-01,  2.41992153e-01],\n",
       "       [-5.14687925e-01,  6.45236956e-01,  8.97480533e-01,\n",
       "        -3.37098644e-01,  9.06433115e-01,  5.05992421e-02]])"
      ]
     },
     "execution_count": 165,
     "metadata": {},
     "output_type": "execute_result"
    }
   ],
   "source": [
    "kmeans.cluster_centers_"
   ]
  },
  {
   "cell_type": "markdown",
   "metadata": {},
   "source": [
    "### Plot the inertia as a function of the number of clusters. Choose the best number of clusters by observing the “elbow”."
   ]
  },
  {
   "cell_type": "code",
   "execution_count": 166,
   "metadata": {
    "scrolled": true
   },
   "outputs": [
    {
     "data": {
      "text/plain": [
       "1085.9478222775695"
      ]
     },
     "execution_count": 166,
     "metadata": {},
     "output_type": "execute_result"
    }
   ],
   "source": [
    "kmeans.inertia_"
   ]
  },
  {
   "cell_type": "code",
   "execution_count": 167,
   "metadata": {},
   "outputs": [],
   "source": [
    "kmeans_per_k = [KMeans(n_clusters=k,init = 'random', random_state=42).fit(X)\n",
    "               for k in range(1,10)]\n",
    "inertias = [model.inertia_ for model in kmeans_per_k]"
   ]
  },
  {
   "cell_type": "code",
   "execution_count": 168,
   "metadata": {},
   "outputs": [
    {
     "data": {
      "text/plain": [
       "[KMeans(algorithm='auto', copy_x=True, init='random', max_iter=300, n_clusters=1,\n",
       "        n_init=10, n_jobs=None, precompute_distances='auto', random_state=42,\n",
       "        tol=0.0001, verbose=0),\n",
       " KMeans(algorithm='auto', copy_x=True, init='random', max_iter=300, n_clusters=2,\n",
       "        n_init=10, n_jobs=None, precompute_distances='auto', random_state=42,\n",
       "        tol=0.0001, verbose=0),\n",
       " KMeans(algorithm='auto', copy_x=True, init='random', max_iter=300, n_clusters=3,\n",
       "        n_init=10, n_jobs=None, precompute_distances='auto', random_state=42,\n",
       "        tol=0.0001, verbose=0),\n",
       " KMeans(algorithm='auto', copy_x=True, init='random', max_iter=300, n_clusters=4,\n",
       "        n_init=10, n_jobs=None, precompute_distances='auto', random_state=42,\n",
       "        tol=0.0001, verbose=0),\n",
       " KMeans(algorithm='auto', copy_x=True, init='random', max_iter=300, n_clusters=5,\n",
       "        n_init=10, n_jobs=None, precompute_distances='auto', random_state=42,\n",
       "        tol=0.0001, verbose=0),\n",
       " KMeans(algorithm='auto', copy_x=True, init='random', max_iter=300, n_clusters=6,\n",
       "        n_init=10, n_jobs=None, precompute_distances='auto', random_state=42,\n",
       "        tol=0.0001, verbose=0),\n",
       " KMeans(algorithm='auto', copy_x=True, init='random', max_iter=300, n_clusters=7,\n",
       "        n_init=10, n_jobs=None, precompute_distances='auto', random_state=42,\n",
       "        tol=0.0001, verbose=0),\n",
       " KMeans(algorithm='auto', copy_x=True, init='random', max_iter=300, n_clusters=8,\n",
       "        n_init=10, n_jobs=None, precompute_distances='auto', random_state=42,\n",
       "        tol=0.0001, verbose=0),\n",
       " KMeans(algorithm='auto', copy_x=True, init='random', max_iter=300, n_clusters=9,\n",
       "        n_init=10, n_jobs=None, precompute_distances='auto', random_state=42,\n",
       "        tol=0.0001, verbose=0)]"
      ]
     },
     "execution_count": 168,
     "metadata": {},
     "output_type": "execute_result"
    }
   ],
   "source": [
    "kmeans_per_k"
   ]
  },
  {
   "cell_type": "code",
   "execution_count": 169,
   "metadata": {},
   "outputs": [
    {
     "data": {
      "image/png": "[encoded data removed]",
      "text/plain": [
       "<Figure size 576x288 with 1 Axes>"
      ]
     },
     "metadata": {
      "needs_background": "light"
     },
     "output_type": "display_data"
    }
   ],
   "source": [
    "# plot inertia as a function of k and analyze the resulting curve.\n",
    "plt.figure(figsize=(8,4))\n",
    "plt.plot(range(1,10), inertias, 'bo-')\n",
    "plt.xlabel('k', fontsize=14)\n",
    "plt.ylabel('Inertia', fontsize=14)\n",
    "plt.annotate('Elbow',\n",
    "            xy=(5,inertias[3]), \n",
    "            xytext=(0.55, 0.55),\n",
    "            textcoords=\"figure fraction\",\n",
    "            fontsize=16,\n",
    "            arrowprops=dict(facecolor='black', shrink=0.1))\n",
    "\n",
    "plt.show()"
   ]
  },
  {
   "cell_type": "markdown",
   "metadata": {},
   "source": [
    "### Selecting the best number of clusters using the silhouette score."
   ]
  },
  {
   "cell_type": "code",
   "execution_count": 170,
   "metadata": {},
   "outputs": [
    {
     "data": {
      "text/plain": [
       "0.36072114202813554"
      ]
     },
     "execution_count": 170,
     "metadata": {},
     "output_type": "execute_result"
    }
   ],
   "source": [
    "# plot the silhouette score as a function of k\n",
    "silhouette_score(X, kmeans.labels_)"
   ]
  },
  {
   "cell_type": "code",
   "execution_count": 171,
   "metadata": {},
   "outputs": [],
   "source": [
    "silhouette_scores = [silhouette_score(X, model.labels_)\n",
    "                    for model in kmeans_per_k[1:]]   # kmeans_per_k[0] is 1 cluster, not considered"
   ]
  },
  {
   "cell_type": "code",
   "execution_count": 172,
   "metadata": {},
   "outputs": [
    {
     "data": {
      "text/plain": [
       "[0.5677770275055144,\n",
       " 0.34037932421779776,\n",
       " 0.3536640857160256,\n",
       " 0.36072114202813554,\n",
       " 0.35933818584086513,\n",
       " 0.3360219692870483,\n",
       " 0.3094181715282594,\n",
       " 0.2496125059921561]"
      ]
     },
     "execution_count": 172,
     "metadata": {},
     "output_type": "execute_result"
    }
   ],
   "source": [
    "silhouette_scores"
   ]
  },
  {
   "cell_type": "code",
   "execution_count": 173,
   "metadata": {},
   "outputs": [
    {
     "data": {
      "image/png": "[encoded data removed]",
      "text/plain": [
       "<Figure size 432x288 with 1 Axes>"
      ]
     },
     "metadata": {
      "needs_background": "light"
     },
     "output_type": "display_data"
    }
   ],
   "source": [
    "# plot the silhouette score as a function of k\n",
    "plt.plot(range(2,10), silhouette_scores, 'bo-')\n",
    "plt.xlabel('k', fontsize=14)\n",
    "plt.ylabel('Silhouette Score', fontsize=14)\n",
    "plt.show()"
   ]
  },
  {
   "cell_type": "markdown",
   "metadata": {},
   "source": [
    "## Set the optimum number of clusters and fit the model."
   ]
  },
  {
   "cell_type": "code",
   "execution_count": 174,
   "metadata": {},
   "outputs": [
    {
     "data": {
      "text/plain": [
       "array([0, 4, 4, 0, 3, 0, 0, 0, 0, 4, 4, 0, 3, 4, 4, 0, 4, 0, 0, 0, 0, 0,\n",
       "       3, 1, 4, 0, 0, 0, 4, 3, 0, 0, 0, 3, 0, 4, 3, 4, 4, 3, 3, 0, 4, 4,\n",
       "       4, 4, 4, 2, 4, 4, 0, 0, 3, 4, 3, 0, 2, 4, 0, 0, 0, 2, 0, 4, 0, 2,\n",
       "       0, 4, 0, 0, 3, 3, 0, 3, 0, 0, 0, 4, 0, 0, 0, 4, 4, 0, 0, 2, 2, 3,\n",
       "       0, 3, 0, 0, 2, 3, 4, 0, 0, 0, 0, 0, 4, 4, 0, 3, 0, 0, 4, 4, 0, 4,\n",
       "       0, 4, 3, 0, 0, 0, 0, 0, 0, 0, 0, 0, 0, 0, 3, 3, 3, 0, 0, 3, 0, 0,\n",
       "       0, 0, 0, 0, 0, 0, 0, 0, 0, 3, 3, 0, 0, 4, 0, 0, 0, 3, 0, 0, 0, 0,\n",
       "       0, 4, 4, 0, 4, 4, 4, 0, 0, 4, 0, 4, 4, 0, 0, 0, 4, 4, 0, 4, 0, 4,\n",
       "       3, 0, 0, 0, 0, 1, 4, 1, 0, 0, 0, 0, 4, 4, 0, 0, 0, 4, 0, 3, 3, 4,\n",
       "       0, 0, 4, 4, 3, 0, 0, 4, 0, 0, 0, 4, 0, 2, 0, 0, 4, 4, 4, 0, 4, 0,\n",
       "       0, 4, 0, 0, 0, 0, 0, 0, 0, 0, 0, 0, 0, 0, 0, 0, 0, 0, 0, 3, 3, 3,\n",
       "       0, 0, 4, 4, 0, 0, 0, 0, 0, 2, 0, 3, 4, 3, 0, 0, 3, 3, 0, 0, 0, 0,\n",
       "       4, 4, 4, 3, 4, 0, 0, 0, 0, 3, 0, 0, 3, 3, 0, 0, 0, 0, 3, 3, 3, 3,\n",
       "       0, 0, 0, 3, 0, 0, 0, 4, 0, 0, 0, 0, 0, 0, 0, 4, 4, 4, 4, 4, 4, 0,\n",
       "       0, 4, 0, 3, 4, 0, 0, 4, 0, 0, 0, 4, 0, 0, 0, 0, 3, 1, 0, 0, 3, 0,\n",
       "       0, 4, 0, 2, 3, 3, 0, 0, 0, 0, 4, 4, 0, 4, 0, 0, 4, 3, 0, 4, 0, 4,\n",
       "       0, 4, 0, 0, 0, 4, 0, 0, 0, 0, 0, 0, 0, 0, 0, 0, 0, 0, 3, 3, 0, 0,\n",
       "       0, 0, 4, 3, 0, 0, 3, 3, 3, 0, 4, 0, 0, 0, 0, 0, 0, 0, 0, 3, 0, 0,\n",
       "       4, 0, 0, 0, 0, 3, 0, 0, 0, 0, 3, 4, 0, 0, 0, 0, 0, 3, 0, 0, 4, 0,\n",
       "       4, 0, 4, 0, 3, 0, 0, 3, 4, 3, 0, 0, 0, 3, 0, 0, 0, 3, 3, 4, 0, 0])"
      ]
     },
     "execution_count": 174,
     "metadata": {},
     "output_type": "execute_result"
    }
   ],
   "source": [
    "k=5\n",
    "kmeans = KMeans(n_clusters=k, init = 'random', random_state=42)\n",
    "y_pred = kmeans.fit_predict(X)\n",
    "y_pred"
   ]
  },
  {
   "cell_type": "markdown",
   "metadata": {},
   "source": [
    "## Display the value count of points in each of the above-formed clusters"
   ]
  },
  {
   "cell_type": "code",
   "execution_count": 175,
   "metadata": {},
   "outputs": [
    {
     "name": "stdout",
     "output_type": "stream",
     "text": [
      "Clust Count\n",
      "[[  0 263]\n",
      " [  1   4]\n",
      " [  2  10]\n",
      " [  3  67]\n",
      " [  4  96]]\n"
     ]
    }
   ],
   "source": [
    "unique, counts = np.unique(y_pred, return_counts=True)\n",
    "print(\"Clust\",\"Count\")\n",
    "print(np.asarray((unique, counts)).T)"
   ]
  },
  {
   "cell_type": "markdown",
   "metadata": {},
   "source": [
    "## Again apply K-Means++ Clustering completing the above tasks 4),5),6)"
   ]
  },
  {
   "cell_type": "code",
   "execution_count": 176,
   "metadata": {},
   "outputs": [
    {
     "data": {
      "text/plain": [
       "KMeans(algorithm='auto', copy_x=True, init='k-means++', max_iter=300,\n",
       "       n_clusters=5, n_init=10, n_jobs=None, precompute_distances='auto',\n",
       "       random_state=42, tol=0.0001, verbose=0)"
      ]
     },
     "execution_count": 176,
     "metadata": {},
     "output_type": "execute_result"
    }
   ],
   "source": [
    "from sklearn.cluster import KMeans\n",
    "k=5\n",
    "kmeans = KMeans(n_clusters=k, random_state=42)\n",
    "kmeans"
   ]
  },
  {
   "cell_type": "code",
   "execution_count": 177,
   "metadata": {},
   "outputs": [
    {
     "data": {
      "text/plain": [
       "array([0, 2, 2, 0, 0, 0, 0, 0, 0, 2, 2, 0, 3, 2, 2, 0, 2, 0, 0, 0, 0, 0,\n",
       "       3, 2, 2, 0, 0, 0, 2, 3, 0, 0, 0, 3, 0, 2, 3, 2, 2, 3, 3, 0, 2, 2,\n",
       "       2, 2, 2, 4, 2, 2, 0, 0, 3, 2, 0, 0, 4, 2, 0, 0, 0, 4, 0, 2, 0, 4,\n",
       "       0, 2, 0, 0, 3, 3, 0, 3, 0, 0, 0, 2, 0, 0, 0, 2, 2, 0, 0, 4, 4, 3,\n",
       "       0, 3, 0, 0, 4, 3, 2, 0, 0, 0, 0, 0, 2, 2, 0, 3, 0, 0, 2, 2, 0, 2,\n",
       "       0, 2, 3, 0, 0, 0, 0, 0, 0, 0, 0, 0, 0, 0, 3, 3, 3, 0, 0, 3, 0, 0,\n",
       "       0, 0, 0, 0, 0, 0, 0, 0, 0, 3, 3, 0, 0, 2, 0, 0, 0, 3, 0, 0, 0, 0,\n",
       "       0, 2, 2, 0, 0, 2, 2, 0, 0, 2, 0, 2, 2, 0, 0, 0, 2, 2, 0, 2, 0, 2,\n",
       "       3, 0, 0, 0, 0, 3, 2, 1, 0, 0, 0, 0, 2, 2, 0, 0, 0, 2, 0, 3, 3, 2,\n",
       "       0, 0, 2, 2, 3, 0, 0, 2, 0, 0, 0, 2, 0, 4, 0, 0, 2, 2, 2, 0, 2, 0,\n",
       "       0, 2, 0, 0, 0, 0, 0, 0, 0, 0, 0, 0, 0, 0, 0, 0, 0, 0, 0, 3, 3, 0,\n",
       "       0, 0, 2, 2, 0, 0, 0, 0, 0, 4, 0, 3, 2, 3, 0, 0, 3, 3, 0, 0, 0, 0,\n",
       "       2, 2, 2, 0, 2, 0, 0, 0, 0, 3, 0, 0, 3, 3, 0, 0, 0, 0, 3, 3, 3, 3,\n",
       "       0, 0, 0, 3, 0, 0, 0, 2, 0, 0, 0, 0, 0, 0, 0, 2, 2, 2, 2, 2, 2, 0,\n",
       "       0, 2, 0, 3, 2, 0, 0, 2, 0, 0, 0, 2, 0, 0, 0, 0, 0, 3, 0, 0, 0, 0,\n",
       "       0, 2, 0, 4, 3, 3, 0, 0, 0, 0, 2, 2, 0, 2, 0, 0, 2, 3, 0, 2, 0, 2,\n",
       "       0, 2, 0, 0, 0, 2, 0, 0, 0, 0, 0, 0, 0, 0, 0, 0, 0, 0, 3, 3, 0, 0,\n",
       "       0, 0, 2, 3, 0, 0, 3, 3, 3, 0, 2, 0, 0, 0, 0, 0, 0, 0, 0, 3, 0, 0,\n",
       "       2, 0, 0, 0, 0, 3, 0, 0, 0, 0, 3, 2, 0, 0, 0, 0, 0, 3, 0, 0, 2, 0,\n",
       "       2, 0, 2, 0, 0, 0, 0, 3, 2, 3, 0, 0, 0, 3, 0, 0, 0, 3, 3, 2, 0, 0])"
      ]
     },
     "execution_count": 177,
     "metadata": {},
     "output_type": "execute_result"
    }
   ],
   "source": [
    "ypred = kmeans.fit_predict(X)\n",
    "ypred"
   ]
  },
  {
   "cell_type": "code",
   "execution_count": 178,
   "metadata": {},
   "outputs": [
    {
     "data": {
      "text/plain": [
       "array([[-2.25787326e-01, -3.82219891e-01, -4.36078497e-01,\n",
       "        -1.64940648e-01, -3.96842819e-01, -1.90499973e-01],\n",
       "       [ 1.96629442e+00,  5.17807822e+00,  1.28649297e+00,\n",
       "         6.90155472e+00, -5.55108349e-01,  1.65131910e+01],\n",
       "       [-4.95298086e-01,  6.87446832e-01,  9.11091178e-01,\n",
       "        -3.28022977e-01,  9.07161480e-01,  1.05585897e-01],\n",
       "       [ 1.67161160e+00, -1.10129959e-01, -2.14959194e-01,\n",
       "         1.11819927e+00, -4.05932822e-01,  3.21016777e-01],\n",
       "       [ 3.13076770e-01,  3.92366739e+00,  4.27534966e+00,\n",
       "        -4.07877563e-03,  4.61798450e+00,  5.07301554e-01]])"
      ]
     },
     "execution_count": 178,
     "metadata": {},
     "output_type": "execute_result"
    }
   ],
   "source": [
    "kmeans.cluster_centers_"
   ]
  },
  {
   "cell_type": "code",
   "execution_count": 179,
   "metadata": {},
   "outputs": [
    {
     "data": {
      "text/plain": [
       "1058.6645620189288"
      ]
     },
     "execution_count": 179,
     "metadata": {},
     "output_type": "execute_result"
    }
   ],
   "source": [
    "kmeans.inertia_"
   ]
  },
  {
   "cell_type": "code",
   "execution_count": 180,
   "metadata": {},
   "outputs": [
    {
     "data": {
      "text/plain": [
       "[KMeans(algorithm='auto', copy_x=True, init='k-means++', max_iter=300,\n",
       "        n_clusters=1, n_init=10, n_jobs=None, precompute_distances='auto',\n",
       "        random_state=42, tol=0.0001, verbose=0),\n",
       " KMeans(algorithm='auto', copy_x=True, init='k-means++', max_iter=300,\n",
       "        n_clusters=2, n_init=10, n_jobs=None, precompute_distances='auto',\n",
       "        random_state=42, tol=0.0001, verbose=0),\n",
       " KMeans(algorithm='auto', copy_x=True, init='k-means++', max_iter=300,\n",
       "        n_clusters=3, n_init=10, n_jobs=None, precompute_distances='auto',\n",
       "        random_state=42, tol=0.0001, verbose=0),\n",
       " KMeans(algorithm='auto', copy_x=True, init='k-means++', max_iter=300,\n",
       "        n_clusters=4, n_init=10, n_jobs=None, precompute_distances='auto',\n",
       "        random_state=42, tol=0.0001, verbose=0),\n",
       " KMeans(algorithm='auto', copy_x=True, init='k-means++', max_iter=300,\n",
       "        n_clusters=5, n_init=10, n_jobs=None, precompute_distances='auto',\n",
       "        random_state=42, tol=0.0001, verbose=0),\n",
       " KMeans(algorithm='auto', copy_x=True, init='k-means++', max_iter=300,\n",
       "        n_clusters=6, n_init=10, n_jobs=None, precompute_distances='auto',\n",
       "        random_state=42, tol=0.0001, verbose=0),\n",
       " KMeans(algorithm='auto', copy_x=True, init='k-means++', max_iter=300,\n",
       "        n_clusters=7, n_init=10, n_jobs=None, precompute_distances='auto',\n",
       "        random_state=42, tol=0.0001, verbose=0),\n",
       " KMeans(algorithm='auto', copy_x=True, init='k-means++', max_iter=300,\n",
       "        n_clusters=8, n_init=10, n_jobs=None, precompute_distances='auto',\n",
       "        random_state=42, tol=0.0001, verbose=0),\n",
       " KMeans(algorithm='auto', copy_x=True, init='k-means++', max_iter=300,\n",
       "        n_clusters=9, n_init=10, n_jobs=None, precompute_distances='auto',\n",
       "        random_state=42, tol=0.0001, verbose=0)]"
      ]
     },
     "execution_count": 180,
     "metadata": {},
     "output_type": "execute_result"
    }
   ],
   "source": [
    "kmeans_per_k = [KMeans(n_clusters=k,init = 'k-means++', random_state=42).fit(X)\n",
    "               for k in range(1,10)]\n",
    "inertias = [model.inertia_ for model in kmeans_per_k]\n",
    "kmeans_per_k"
   ]
  },
  {
   "cell_type": "code",
   "execution_count": 199,
   "metadata": {},
   "outputs": [
    {
     "data": {
      "image/png": "[encoded data removed]",
      "text/plain": [
       "<Figure size 576x288 with 1 Axes>"
      ]
     },
     "metadata": {
      "needs_background": "light"
     },
     "output_type": "display_data"
    }
   ],
   "source": [
    "# plot inertia as a function of k and analyze the resulting curve.\n",
    "plt.figure(figsize=(8,4))\n",
    "plt.plot(range(1,10), inertias, 'bo-')\n",
    "plt.xlabel('k', fontsize=14)\n",
    "plt.ylabel('Inertia', fontsize=14)\n",
    "plt.annotate('Elbow',\n",
    "            xy=(4,inertias[3]), \n",
    "            xytext=(0.55, 0.55),\n",
    "            textcoords=\"figure fraction\",\n",
    "            fontsize=16,\n",
    "            arrowprops=dict(facecolor='black', shrink=0.1))\n",
    "\n",
    "plt.show()"
   ]
  },
  {
   "cell_type": "code",
   "execution_count": 182,
   "metadata": {},
   "outputs": [
    {
     "data": {
      "text/plain": [
       "0.3699151378581946"
      ]
     },
     "execution_count": 182,
     "metadata": {},
     "output_type": "execute_result"
    }
   ],
   "source": [
    "# plot the silhouette score as a function of k\n",
    "silhouette_score(X, kmeans.labels_)"
   ]
  },
  {
   "cell_type": "code",
   "execution_count": 183,
   "metadata": {},
   "outputs": [
    {
     "data": {
      "text/plain": [
       "[0.6141280269407219,\n",
       " 0.538790216376685,\n",
       " 0.39820204928189296,\n",
       " 0.3699151378581946,\n",
       " 0.37838381537724297,\n",
       " 0.32015779818901574,\n",
       " 0.29319641223698173,\n",
       " 0.3256622349218468]"
      ]
     },
     "execution_count": 183,
     "metadata": {},
     "output_type": "execute_result"
    }
   ],
   "source": [
    "silhouette_scores = [silhouette_score(X, model.labels_)\n",
    "                    for model in kmeans_per_k[1:]]   # kmeans_per_k[0] is 1 cluster, not considered\n",
    "silhouette_scores"
   ]
  },
  {
   "cell_type": "code",
   "execution_count": 184,
   "metadata": {},
   "outputs": [
    {
     "data": {
      "image/png": "[encoded data removed]",
      "text/plain": [
       "<Figure size 432x288 with 1 Axes>"
      ]
     },
     "metadata": {
      "needs_background": "light"
     },
     "output_type": "display_data"
    }
   ],
   "source": [
    "# plot the silhouette score as a function of k\n",
    "plt.plot(range(2,10), silhouette_scores, 'bo-')\n",
    "plt.xlabel('k', fontsize=14)\n",
    "plt.ylabel('Silhouette Score', fontsize=14)\n",
    "plt.show()"
   ]
  },
  {
   "cell_type": "code",
   "execution_count": 185,
   "metadata": {},
   "outputs": [
    {
     "data": {
      "text/plain": [
       "array([0, 2, 2, 0, 0, 0, 0, 0, 0, 2, 2, 0, 3, 2, 2, 0, 2, 0, 0, 0, 0, 0,\n",
       "       3, 2, 2, 0, 0, 0, 2, 3, 0, 0, 0, 3, 0, 2, 3, 2, 2, 3, 3, 0, 2, 2,\n",
       "       2, 2, 2, 4, 2, 2, 0, 0, 3, 2, 0, 0, 4, 2, 0, 0, 0, 4, 0, 2, 0, 4,\n",
       "       0, 2, 0, 0, 3, 3, 0, 3, 0, 0, 0, 2, 0, 0, 0, 2, 2, 0, 0, 4, 4, 3,\n",
       "       0, 3, 0, 0, 4, 3, 2, 0, 0, 0, 0, 0, 2, 2, 0, 3, 0, 0, 2, 2, 0, 2,\n",
       "       0, 2, 3, 0, 0, 0, 0, 0, 0, 0, 0, 0, 0, 0, 3, 3, 3, 0, 0, 3, 0, 0,\n",
       "       0, 0, 0, 0, 0, 0, 0, 0, 0, 3, 3, 0, 0, 2, 0, 0, 0, 3, 0, 0, 0, 0,\n",
       "       0, 2, 2, 0, 0, 2, 2, 0, 0, 2, 0, 2, 2, 0, 0, 0, 2, 2, 0, 2, 0, 2,\n",
       "       3, 0, 0, 0, 0, 3, 2, 1, 0, 0, 0, 0, 2, 2, 0, 0, 0, 2, 0, 3, 3, 2,\n",
       "       0, 0, 2, 2, 3, 0, 0, 2, 0, 0, 0, 2, 0, 4, 0, 0, 2, 2, 2, 0, 2, 0,\n",
       "       0, 2, 0, 0, 0, 0, 0, 0, 0, 0, 0, 0, 0, 0, 0, 0, 0, 0, 0, 3, 3, 0,\n",
       "       0, 0, 2, 2, 0, 0, 0, 0, 0, 4, 0, 3, 2, 3, 0, 0, 3, 3, 0, 0, 0, 0,\n",
       "       2, 2, 2, 0, 2, 0, 0, 0, 0, 3, 0, 0, 3, 3, 0, 0, 0, 0, 3, 3, 3, 3,\n",
       "       0, 0, 0, 3, 0, 0, 0, 2, 0, 0, 0, 0, 0, 0, 0, 2, 2, 2, 2, 2, 2, 0,\n",
       "       0, 2, 0, 3, 2, 0, 0, 2, 0, 0, 0, 2, 0, 0, 0, 0, 0, 3, 0, 0, 0, 0,\n",
       "       0, 2, 0, 4, 3, 3, 0, 0, 0, 0, 2, 2, 0, 2, 0, 0, 2, 3, 0, 2, 0, 2,\n",
       "       0, 2, 0, 0, 0, 2, 0, 0, 0, 0, 0, 0, 0, 0, 0, 0, 0, 0, 3, 3, 0, 0,\n",
       "       0, 0, 2, 3, 0, 0, 3, 3, 3, 0, 2, 0, 0, 0, 0, 0, 0, 0, 0, 3, 0, 0,\n",
       "       2, 0, 0, 0, 0, 3, 0, 0, 0, 0, 3, 2, 0, 0, 0, 0, 0, 3, 0, 0, 2, 0,\n",
       "       2, 0, 2, 0, 0, 0, 0, 3, 2, 3, 0, 0, 0, 3, 0, 0, 0, 3, 3, 2, 0, 0])"
      ]
     },
     "execution_count": 185,
     "metadata": {},
     "output_type": "execute_result"
    }
   ],
   "source": [
    "k=5\n",
    "kmeans = KMeans(n_clusters=k, random_state=42)\n",
    "ypred = kmeans.fit_predict(X)\n",
    "ypred"
   ]
  },
  {
   "cell_type": "code",
   "execution_count": 186,
   "metadata": {},
   "outputs": [
    {
     "name": "stdout",
     "output_type": "stream",
     "text": [
      "Clust Count\n",
      "[[  0 271]\n",
      " [  1   1]\n",
      " [  2  96]\n",
      " [  3  62]\n",
      " [  4  10]]\n"
     ]
    }
   ],
   "source": [
    "unique, counts = np.unique(ypred, return_counts=True)\n",
    "print(\"Clust\",\"Count\")\n",
    "print(np.asarray((unique, counts)).T)"
   ]
  }
 ],
 "metadata": {
  "kernelspec": {
   "display_name": "Python 3",
   "language": "python",
   "name": "python3"
  },
  "language_info": {
   "codemirror_mode": {
    "name": "ipython",
    "version": 3
   },
   "file_extension": ".py",
   "mimetype": "text/x-python",
   "name": "python",
   "nbconvert_exporter": "python",
   "pygments_lexer": "ipython3",
   "version": "3.7.4"
  }
 },
 "nbformat": 4,
 "nbformat_minor": 2
}
